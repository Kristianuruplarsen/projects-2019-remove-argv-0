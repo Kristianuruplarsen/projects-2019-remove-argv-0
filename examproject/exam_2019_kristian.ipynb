{
 "cells": [
  {
   "cell_type": "code",
   "execution_count": 1,
   "metadata": {},
   "outputs": [],
   "source": [
    "import numpy as np"
   ]
  },
  {
   "cell_type": "markdown",
   "metadata": {},
   "source": [
    "# 1. Human capital accumulation"
   ]
  },
  {
   "cell_type": "markdown",
   "metadata": {},
   "source": [
    "Consider a worker living in **two periods**, $t \\in \\{1,2\\}$. \n",
    "\n",
    "In each period she decides whether to **work ($l_t = 1$) or not ($l_t = 0$)**. \n",
    "\n",
    "She can *not* borrow or save and thus **consumes all of her income** in each period. "
   ]
  },
  {
   "cell_type": "markdown",
   "metadata": {},
   "source": [
    "If she **works** her **consumption** becomes:\n",
    "\n",
    "$$c_t = w h_t l_t\\,\\,\\text{if}\\,\\,l_t=1$$\n",
    "\n",
    "where $w$ is **the wage rate** and $h_t$ is her **human capital**. \n",
    "\n",
    "If she does **not work** her consumption becomes:\n",
    "\n",
    "$$c_t = b\\,\\,\\text{if}\\,\\,l_t=0$$\n",
    "\n",
    "where $b$ is the **unemployment benefits**."
   ]
  },
  {
   "cell_type": "markdown",
   "metadata": {},
   "source": [
    "Her **utility of consumption** is: \n",
    "\n",
    "$$ \\frac{c_t^{1-\\rho}}{1-\\rho} $$\n",
    "\n",
    "Her **disutility of working** is:\n",
    "\n",
    "$$ \\gamma l_t $$"
   ]
  },
  {
   "cell_type": "markdown",
   "metadata": {},
   "source": [
    "From period 1 to period 2, she **accumulates human capital** according to:\n",
    "\n",
    "$$ h_2 = h_1 + l_1 + \n",
    "\\begin{cases}\n",
    "0 & \\text{with prob. }0.5 \\\\\n",
    "\\Delta & \\text{with prob. }0.5 \n",
    "\\end{cases} \\\\\n",
    "$$\n",
    "\n",
    "where $\\Delta$ is a **stochastic experience gain**."
   ]
  },
  {
   "cell_type": "markdown",
   "metadata": {},
   "source": [
    "In the **second period** the worker thus solves:\n",
    "\n",
    "$$\n",
    "\\begin{eqnarray*}\n",
    "v_{2}(h_{2}) & = &\\max_{l_{2}} \\frac{c_2^{1-\\rho}}{1-\\rho} - \\gamma l_2\n",
    "\\\\ & \\text{s.t.} & \\\\\n",
    "c_{2}& = & w h_2 l_2 \\\\\n",
    "l_{2}& \\in &\\{0,1\\}\n",
    "\\end{eqnarray*}\n",
    "$$"
   ]
  },
  {
   "cell_type": "markdown",
   "metadata": {},
   "source": [
    "In the **first period** the worker thus solves:\n",
    "\n",
    "$$\n",
    "\\begin{eqnarray*}\n",
    "v_{1}(h_{1}) &=& \\max_{l_{1}} \\frac{c_1^{1-\\rho}}{1-\\rho} - \\gamma l_1 + \\beta\\mathbb{E}_{1}\\left[v_2(h_2)\\right]\n",
    "\\\\ & \\text{s.t.} & \\\\\n",
    "c_1 &=& w h_1 l_1 \\\\\n",
    "h_2 &=& h_1 + l_1 + \\begin{cases}\n",
    "0 & \\text{with prob. }0.5\\\\\n",
    "\\Delta & \\text{with prob. }0.5 \n",
    "\\end{cases}\\\\\n",
    "l_{1} &\\in& \\{0,1\\}\\\\\n",
    "\\end{eqnarray*}\n",
    "$$\n",
    "\n",
    "where $\\beta$ is the **discount factor** and $\\mathbb{E}_{1}\\left[v_2(h_2)\\right]$ is the **expected value of living in period two**."
   ]
  },
  {
   "cell_type": "markdown",
   "metadata": {},
   "source": [
    "The **parameters** of the model are:"
   ]
  },
  {
   "cell_type": "code",
   "execution_count": 2,
   "metadata": {},
   "outputs": [],
   "source": [
    "rho = 2\n",
    "beta = 0.96\n",
    "gamma = 0.1\n",
    "w = 2\n",
    "b = 1\n",
    "Delta = 0.1"
   ]
  },
  {
   "cell_type": "markdown",
   "metadata": {},
   "source": [
    "The **relevant levels of human capital** are:"
   ]
  },
  {
   "cell_type": "code",
   "execution_count": 3,
   "metadata": {},
   "outputs": [],
   "source": [
    "h_vec = np.linspace(0.1,1.5,100) "
   ]
  },
  {
   "cell_type": "markdown",
   "metadata": {},
   "source": [
    "**Question 1:** Solve the model in period 2 and illustrate the solution (including labor supply as a function of human capital). \n",
    "\n",
    "**Question 2:** Solve the model in period 1 and illustrate the solution (including labor supply as a function of human capital). \n",
    "\n",
    "**Question 3:** Will the worker never work if her potential wage income is lower than the unemployment benefits she can get? Explain and illustrate why or why not."
   ]
  },
  {
   "cell_type": "markdown",
   "metadata": {},
   "source": [
    "<br>\n",
    "<br>\n",
    "\n",
    "## Answer to question 1\n",
    "> **Question 1:** Solve the model in period 2 and illustrate the solution (including labor supply as a function of human capital). \n",
    "\n"
   ]
  },
  {
   "cell_type": "code",
   "execution_count": 4,
   "metadata": {},
   "outputs": [],
   "source": [
    "import matplotlib.pyplot as plt \n",
    "from examproject.problem_one import * "
   ]
  },
  {
   "cell_type": "markdown",
   "metadata": {},
   "source": [
    "We begin by setting up the following two function. `ex_post_v2` takes the level of human capital in period 2 $h_2$ for given (ex post the shock to human capital accumulation) and takes the labor supply decision $l_1$ as a variable. It then simply calculates the total utility of the agent with human capital $h_2$ who chooses $l_2\\in {0,1}$.\n",
    "\n",
    "`period_2_solver` evaluates the target both for a labor decision of $l_2=1$ and $l_2=0$, and returns a boolean which is 1 if the utility of working exceeds the utility of not working.\n",
    "\n",
    "Finally we run this solver across all elements of `h_vec` which associates with each level of human capital a labor supply desicion which is shown in the figure. "
   ]
  },
  {
   "cell_type": "code",
   "execution_count": 178,
   "metadata": {},
   "outputs": [],
   "source": [
    "def ex_post_v2(l2: bool, h2: float):\n",
    "    ''' Calculate consumption from h_2 and state\n",
    "        and calculate utility from this.\n",
    "        \n",
    "    Args: \n",
    "        l2: labor supply desicion\n",
    "        h2: human capital level\n",
    "        \n",
    "    Returns:\n",
    "        Number\n",
    "    '''\n",
    "    c2 = consumption(h2, l2)        \n",
    "    utility = total_utility(c2, l2)\n",
    "    \n",
    "    return utility\n",
    "\n",
    "\n",
    "def period_2_solver(h2: float):\n",
    "    ''' Solve the period 2 problem ex post \n",
    "    \n",
    "    Args:\n",
    "        h2: human capital level\n",
    "        \n",
    "    Returns:\n",
    "        bool, float\n",
    "    '''\n",
    "    work = ex_post_v2(1, h2)\n",
    "    nowork = ex_post_v2(0, h2)\n",
    "    \n",
    "    return work >= nowork, np.max([work, nowork])"
   ]
  },
  {
   "cell_type": "code",
   "execution_count": 179,
   "metadata": {},
   "outputs": [
    {
     "name": "stderr",
     "output_type": "stream",
     "text": [
      "No handles with labels found to put in legend.\n"
     ]
    },
    {
     "data": {
      "text/plain": [
       "<matplotlib.legend.Legend at 0x7f40d16660f0>"
      ]
     },
     "execution_count": 179,
     "metadata": {},
     "output_type": "execute_result"
    },
    {
     "data": {
      "image/png": "[encoded data removed]",
      "text/plain": [
       "<Figure size 864x288 with 2 Axes>"
      ]
     },
     "metadata": {
      "needs_background": "light"
     },
     "output_type": "display_data"
    }
   ],
   "source": [
    "p2_sol = [period_2_solver(h) for h in h_vec]\n",
    "\n",
    "fig, (ax1, ax2) = plt.subplots(1,2, figsize = (12,4))\n",
    "\n",
    "ax1.plot(h_vec, [s[0] for s in p2_sol])\n",
    "ax1.set_title('Labor supply', fontsize = 18)\n",
    "ax1.set_xlabel(r'$h_2$', fontsize = 18)\n",
    "ax1.set_ylabel(r'$l_2$', fontsize = 18)\n",
    "\n",
    "\n",
    "\n",
    "ax2.plot(h_vec, [s[1] for s in p2_sol])\n",
    "ax2.set_title('Utility', fontsize = 18)\n",
    "ax2.set_xlabel(r'$h_2$', fontsize = 18)\n",
    "ax2.set_ylabel(r'$v_2^*$', fontsize = 18)\n",
    "\n",
    "fig.suptitle(\"Period 2 solution\", fontsize = 24, y = 1.05)\n",
    "plt.tight_layout()\n",
    "plt.legend()"
   ]
  },
  {
   "cell_type": "code",
   "execution_count": 180,
   "metadata": {},
   "outputs": [
    {
     "data": {
      "text/plain": [
       "0.5666666666666667"
      ]
     },
     "execution_count": 180,
     "metadata": {},
     "output_type": "execute_result"
    }
   ],
   "source": [
    "# This is just the smallest number in h_vec that produces \n",
    "# a labor supply of 1\n",
    "h_vec[np.array([s[0] for s in p2_sol]) == 1].min()"
   ]
  },
  {
   "cell_type": "markdown",
   "metadata": {},
   "source": [
    "Thus we see that labor is supplied in period 2 with a human capital level above 0.56."
   ]
  },
  {
   "cell_type": "markdown",
   "metadata": {},
   "source": [
    "<br>\n",
    "<br>\n",
    "\n",
    "## Answer to question 2\n",
    "\n",
    "> **Question 2:** Solve the model in period 1 and illustrate the solution (including labor supply as a function of human capital). \n",
    "\n",
    "\n",
    "Next we solve the model in period 1, for this we need an ex-ante version of $v_2$ that is dependent on the realization of $h_2$, using this we calculate the expected utility of period 2 simply be resolving the problem $ndraws$ times with stochastic human capital. \n",
    "\n",
    "with this in place we can solve for period 1 simply by calculating $v_1$ for both $l_1=0,1$ and choosing the option that gives the highest utility. "
   ]
  },
  {
   "cell_type": "code",
   "execution_count": 181,
   "metadata": {},
   "outputs": [],
   "source": [
    "_RNG = np.random.RandomState(seed = 0)"
   ]
  },
  {
   "cell_type": "code",
   "execution_count": 196,
   "metadata": {},
   "outputs": [],
   "source": [
    "def ex_ante_v2(h1: float, l1: bool, rng: np.random.RandomState) -> tuple:\n",
    "    ''' Ex ante version of v2\n",
    "    \n",
    "    Args:\n",
    "        h1: human capital in period 1\n",
    "        l1: labor decision in period 1\n",
    "        rng: random number generator\n",
    "        \n",
    "    Returns \n",
    "        bool, float\n",
    "    '''\n",
    "    h2 = human_capital_accumulation(h1, l1, rng)    \n",
    "    choice, utility = period_2_solver(h2)\n",
    "    \n",
    "    return choice, utility\n",
    "\n",
    "\n",
    "def expected_v2(h1: float, l1: float, rng: np.random.RandomState, ndraws: int) -> float:\n",
    "    ''' The expected value of v2\n",
    "    \n",
    "    Args:\n",
    "        h1: human capital in period 1\n",
    "        l1: labor decision in period 1\n",
    "        rng: random number generator\n",
    "        ndraws: the number of draws for calculating the expectation\n",
    "    \n",
    "    '''\n",
    "    draws = [ex_ante_v2(h1, l1, rng) for _ in range(ndraws)]\n",
    "    return beta*np.mean(draws)\n",
    "\n",
    "\n",
    "def v1(h1: float, l1: float, rng: np.random.RandomState, ndraws: int) -> float:\n",
    "    ''' v1\n",
    "    \n",
    "    Args: \n",
    "        h1: HC in period 1\n",
    "        l1: labor decision in period 1\n",
    "        rng: random number generator\n",
    "        ndraws: number of draws\n",
    "    '''\n",
    "    c1 = consumption(h1, l1)    \n",
    "    ev2 = expected_v2(h1, l1, rng, ndraws)\n",
    "    u1 = total_utility(c1, l1) + ev2\n",
    "    return u1\n",
    "\n",
    "\n",
    "def period_1_solver(h1: float, rng: np.random.RandomState, ndraws: int):\n",
    "    ''' Solve the period 1 problem\n",
    "    \n",
    "    Args:\n",
    "        h1: HC in period 1 \n",
    "        rng: random number generator\n",
    "        ndraws: number of draws\n",
    "    '''\n",
    "    work = v1(h1, 1, rng, ndraws)\n",
    "    nowork = v1(h1, 0, rng, ndraws)\n",
    "    \n",
    "    return work >= nowork, np.max([work, nowork])"
   ]
  },
  {
   "cell_type": "code",
   "execution_count": 197,
   "metadata": {},
   "outputs": [],
   "source": [
    "p1_sol = [period_1_solver(h, _RNG, 1000) for h in h_vec]"
   ]
  },
  {
   "cell_type": "code",
   "execution_count": 198,
   "metadata": {},
   "outputs": [
    {
     "data": {
      "image/png": "[encoded data removed]",
      "text/plain": [
       "<Figure size 864x288 with 2 Axes>"
      ]
     },
     "metadata": {
      "needs_background": "light"
     },
     "output_type": "display_data"
    }
   ],
   "source": [
    "fig, (ax1, ax2) = plt.subplots(1,2, figsize = (12,4))\n",
    "\n",
    "ax1.plot(h_vec, [s[0] for s in p1_sol])\n",
    "ax1.set_title('Labor supply', fontsize = 18)\n",
    "ax1.set_xlabel(r'$h_1$', fontsize = 18)\n",
    "ax1.set_ylabel(r'$l_1$', fontsize = 18)\n",
    "\n",
    "ax2.plot(h_vec, [s[1] for s in p1_sol])\n",
    "ax2.set_title('Utility', fontsize = 18)\n",
    "ax2.set_xlabel(r'$h_1$', fontsize = 18)\n",
    "ax2.set_ylabel(r'$v_1^*$', fontsize = 18)\n",
    "\n",
    "fig.suptitle(\"Period 1 solution\", fontsize = 24, y = 1.05)\n",
    "plt.tight_layout()"
   ]
  },
  {
   "cell_type": "markdown",
   "metadata": {},
   "source": [
    "Thus the level of human capital required for working is lower in period 1 than in period 2, this is because working in period 1 earns additional human capital which makes working in period 2 worth more. "
   ]
  },
  {
   "cell_type": "markdown",
   "metadata": {},
   "source": [
    "<br>\n",
    "<br>\n",
    "\n",
    "## Answer to question 3\n",
    "> **Question 3:** Will the worker never work if her potential wage income is lower than the unemployment benefits she can get? Explain and illustrate why or why not.\n",
    "\n",
    "We interpret the question to ask; \"is it possible that she will work in period 1, even though $w h_1 < b$\". Yes this is possible, exactly because working in period 1 gives additional human capital in period 2, so if $h_1$ is sufficiently high (but lower than to make $wh_1 \\geq b$) the expected benefit on period 2 utility outweighs apparent negative utility of working in period 1. \n",
    "\n",
    "The figure below shows the range of human capital levels in period 1 for which it is worthwile to work even though $wh_1 - b < 0$."
   ]
  },
  {
   "cell_type": "code",
   "execution_count": 204,
   "metadata": {},
   "outputs": [
    {
     "data": {
      "image/png": "[encoded data removed]",
      "text/plain": [
       "<Figure size 864x288 with 2 Axes>"
      ]
     },
     "metadata": {
      "needs_background": "light"
     },
     "output_type": "display_data"
    }
   ],
   "source": [
    "lowest_work_sol = h_vec[np.array([s[0] for s in p1_sol]) == 1].min() \n",
    "\n",
    "fig, (ax1, ax2) = plt.subplots(1,2, figsize = (12,4))\n",
    "\n",
    "ax1.plot([w*h - b for h in h_vec], [s[0] for s in p1_sol])\n",
    "ax1.axvspan(w*lowest_work_sol-b, 0, alpha=0.3, color='blue')\n",
    "ax1.axvline(w*lowest_work_sol-b, color = 'black')\n",
    "ax1.axvline(0, color = 'black')\n",
    "ax1.set_title('Labor supply', fontsize = 18)\n",
    "ax1.set_xlabel(r'$w\\cdot h_1 - b$', fontsize = 18)\n",
    "ax1.set_ylabel(r'$l_1$', fontsize = 18)\n",
    "\n",
    "ax2.plot([w*h - b for h in h_vec], [s[1] for s in p1_sol])\n",
    "ax2.axvspan(w*lowest_work_sol-b, 0, alpha=0.3, color='blue')\n",
    "ax2.axvline(w*lowest_work_sol-b, color = 'black')\n",
    "ax2.axvline(0, color = 'black')\n",
    "ax2.set_title('Utility', fontsize = 18)\n",
    "ax2.set_xlabel(r'$w\\cdot h_1 - b$', fontsize = 18)\n",
    "ax2.set_ylabel(r'$v_1^*$', fontsize = 18)\n",
    "\n",
    "fig.suptitle(\"Period 1 solution\", fontsize = 24, y = 1.05)\n",
    "plt.tight_layout()"
   ]
  },
  {
   "cell_type": "markdown",
   "metadata": {},
   "source": [
    "# 2. AS-AD model"
   ]
  },
  {
   "cell_type": "markdown",
   "metadata": {},
   "source": [
    "Consider the following **AS-AD model**. The **goods market equilibrium** is given by\n",
    "\n",
    "$$ y_{t} = -\\alpha r_{t} + v_{t} $$\n",
    "\n",
    "where $y_{t}$ is the **output gap**, $r_{t}$ is the **ex ante real interest** and $v_{t}$ is a **demand disturbance**. "
   ]
  },
  {
   "cell_type": "markdown",
   "metadata": {},
   "source": [
    "The central bank's **Taylor rule** is\n",
    "\n",
    "$$ i_{t} = \\pi_{t+1}^{e} + h \\pi_{t} + b y_{t}$$\n",
    "\n",
    "where $i_{t}$ is the **nominal interest rate**, $\\pi_{t}$ is the **inflation gap**, and $\\pi_{t+1}^{e}$ is the **expected inflation gap**. "
   ]
  },
  {
   "cell_type": "markdown",
   "metadata": {},
   "source": [
    "The **ex ante real interest rate** is given by \n",
    "\n",
    "$$ r_{t} = i_{t} - \\pi_{t+1}^{e} $$"
   ]
  },
  {
   "cell_type": "markdown",
   "metadata": {},
   "source": [
    "Together, the above implies that the **AD-curve** is\n",
    "\n",
    "$$ \\pi_{t} = \\frac{1}{h\\alpha}\\left[v_{t} - (1+b\\alpha)y_{t}\\right]$$"
   ]
  },
  {
   "cell_type": "markdown",
   "metadata": {},
   "source": [
    "Further, assume that the **short-run supply curve (SRAS)** is given by\n",
    "\n",
    "$$ \\pi_{t} = \\pi_{t}^{e} + \\gamma y_{t} + s_{t}$$\n",
    "\n",
    "where $s_t$ is a **supply disturbance**."
   ]
  },
  {
   "cell_type": "markdown",
   "metadata": {},
   "source": [
    "**Inflation expectations are adaptive** and given by\n",
    "\n",
    "$$ \\pi_{t}^{e} = \\phi\\pi_{t-1}^{e} + (1-\\phi)\\pi_{t-1}$$"
   ]
  },
  {
   "cell_type": "markdown",
   "metadata": {},
   "source": [
    "Together, this implies that the **SRAS-curve** can also be written as\n",
    "\n",
    "$$ \\pi_{t} = \\pi_{t-1} + \\gamma y_{t} - \\phi\\gamma y_{t-1} + s_{t} - \\phi s_{t-1} $$"
   ]
  },
  {
   "cell_type": "markdown",
   "metadata": {},
   "source": [
    "The **parameters** of the model are:"
   ]
  },
  {
   "cell_type": "code",
   "execution_count": 249,
   "metadata": {},
   "outputs": [],
   "source": [
    "par = {}\n",
    "\n",
    "par['alpha'] = 5.76\n",
    "par['h'] = 0.5\n",
    "par['b'] = 0.5\n",
    "par['phi'] = 0\n",
    "par['gamma'] = 0.075"
   ]
  },
  {
   "cell_type": "markdown",
   "metadata": {},
   "source": [
    "**Question 1:** Use the ``sympy`` module to solve for the equilibrium values of output, $y_t$, and inflation, $\\pi_t$, (where AD = SRAS) given the parameters ($\\alpha$, $h$, $b$, $\\alpha$, $\\gamma$) and $y_{t-1}$ , $\\pi_{t-1}$, $v_t$, $s_t$, and $s_{t-1}$.\n",
    "\n",
    "**Question 2:** Find and illustrate the equilibrium when $y_{t-1} = \\pi_{t-1} = v_t = s_t = s_{t-1} = 0$. Illustrate how the equilibrium changes when instead $v_t = 0.1$."
   ]
  },
  {
   "cell_type": "markdown",
   "metadata": {},
   "source": [
    "**Persistent disturbances:** Now, additionaly, assume that both the demand and the supply disturbances are AR(1) processes\n",
    "\n",
    "$$ v_{t} = \\delta v_{t-1} + x_{t} $$\n",
    "$$ s_{t} = \\omega s_{t-1} + c_{t} $$\n",
    "\n",
    "where $x_{t}$ is a **demand shock**, and $c_t$ is a **supply shock**. The **autoregressive parameters** are:"
   ]
  },
  {
   "cell_type": "code",
   "execution_count": 250,
   "metadata": {},
   "outputs": [],
   "source": [
    "par['delta'] = 0.80\n",
    "par['omega'] = 0.15"
   ]
  },
  {
   "cell_type": "markdown",
   "metadata": {},
   "source": [
    "**Question 3:** Starting from $y_{-1} = \\pi_{-1} = s_{-1} = 0$, how does the economy evolve for $x_0 = 0.1$, $x_t = 0, \\forall t > 0$ and $c_t = 0, \\forall t \\geq 0$?"
   ]
  },
  {
   "cell_type": "markdown",
   "metadata": {},
   "source": [
    "**Stochastic shocks:** Now, additionally, assume that $x_t$ and $c_t$ are stochastic and normally distributed\n",
    "\n",
    "$$ x_{t}\\sim\\mathcal{N}(0,\\sigma_{x}^{2}) $$\n",
    "$$ c_{t}\\sim\\mathcal{N}(0,\\sigma_{c}^{2}) $$\n",
    "\n",
    "The **standard deviations of the shocks** are:"
   ]
  },
  {
   "cell_type": "code",
   "execution_count": 251,
   "metadata": {},
   "outputs": [],
   "source": [
    "par['sigma_x'] = 3.492\n",
    "par['sigma_c'] = 0.2"
   ]
  },
  {
   "cell_type": "markdown",
   "metadata": {},
   "source": [
    "**Question 4:** Simulate the AS-AD model for 1,000 periods. Calculate the following five statistics:\n",
    "\n",
    "1. Variance of $y_t$, $var(y_t)$\n",
    "2. Variance of $\\pi_t$, $var(\\pi_t)$\n",
    "3. Correlation between $y_t$ and $\\pi_t$, $corr(y_t,\\pi_t)$\n",
    "4. Auto-correlation between $y_t$ and $y_{t-1}$, $corr(y_t,y_{t-1})$\n",
    "5. Auto-correlation between $\\pi_t$ and $\\pi_{t-1}$, $corr(\\pi_t,\\pi_{t-1})$"
   ]
  },
  {
   "cell_type": "markdown",
   "metadata": {},
   "source": [
    "**Question 5:** Plot how the correlation between $y_t$ and $\\pi_t$ changes with $\\phi$. Use a numerical optimizer or root finder to choose $\\phi\\in(0,1)$ such that the simulated correlation between $y_t$ and $\\pi_t$ comes close to 0.31. "
   ]
  },
  {
   "cell_type": "markdown",
   "metadata": {},
   "source": [
    "**Quesiton 6:** Use a numerical optimizer to choose $\\sigma_x>0$, $\\sigma_c>0$ and $\\phi\\in(0,1)$ to make the simulated statistics as close as possible to US business cycle data where:\n",
    "\n",
    "1. $var(y_t) = 1.64$\n",
    "2. $var(\\pi_t) = 0.21$\n",
    "3. $corr(y_t,\\pi_t) = 0.31$\n",
    "4. $corr(y_t,y_{t-1}) = 0.84$\n",
    "5. $corr(\\pi_t,\\pi_{t-1}) = 0.48$"
   ]
  },
  {
   "cell_type": "markdown",
   "metadata": {},
   "source": [
    "<br>\n",
    "<br>\n",
    "\n",
    "## Answer to question 1\n",
    "> **Question 1:** Use the ``sympy`` module to solve for the equilibrium values of output, $y_t$, and inflation, $\\pi_t$, (where AD = SRAS) given the parameters ($\\alpha$, $h$, $b$, $\\alpha$, $\\gamma$) and $y_{t-1}$ , $\\pi_{t-1}$, $v_t$, $s_t$, and $s_{t-1}$.\n",
    "\n"
   ]
  },
  {
   "cell_type": "code",
   "execution_count": 285,
   "metadata": {},
   "outputs": [],
   "source": [
    "import sympy as sp \n",
    "\n",
    "sp.init_printing(use_unicode=True)"
   ]
  },
  {
   "cell_type": "code",
   "execution_count": 286,
   "metadata": {},
   "outputs": [
    {
     "data": {
      "image/png": "[encoded data removed]",
      "text/latex": [
       "$\\displaystyle \\left( y_{t}, \\  r_{t}, \\  v_{t}, \\  i_{t}, \\  \\pi_{t+1}^e, \\  \\pi_t, \\  \\alpha, \\  h, \\  b, \\  s_{t}, \\  \\gamma, \\  \\pi^{e}_{t}, \\  \\pi_{t-1}, \\  y_{t-1}, \\  s_{t-1}\\right)$"
      ],
      "text/plain": [
       "(yₜ, rₜ, vₜ, iₜ, \\pi_{t+1}__e, \\piₜ, α, h, b, sₜ, γ, π_t__e, \\pi_{t-1}, y_{t-1\n",
       "}, s_{t-1})"
      ]
     },
     "execution_count": 286,
     "metadata": {},
     "output_type": "execute_result"
    }
   ],
   "source": [
    "y_t = sp.symbols('y_t')\n",
    "y_tm1 = sp.symbols('y_{t-1}')\n",
    "r_t = sp.symbols('r_t')\n",
    "v_t = sp.symbols('v_t')\n",
    "i_t = sp.symbols('i_t')\n",
    "s_t = sp.symbols('s_t')\n",
    "s_tm1 = sp.symbols('s_{t-1}')\n",
    "\n",
    "pi_tp1_e = sp.symbols('\\pi_{t+1}^e')\n",
    "pi_t_e = sp.symbols('pi_t^e')\n",
    "pi_t = sp.symbols('\\pi_t')\n",
    "\n",
    "pi_tm1 = sp.symbols('\\pi_{t-1}')\n",
    "\n",
    "alpha = sp.symbols('alpha')\n",
    "gamma = sp.symbols('gamma')\n",
    "phi = sp.symbols('phi')\n",
    "h = sp.symbols('h')\n",
    "b = sp.symbols('b')\n",
    "\n",
    "y_t, r_t, v_t, i_t, pi_tp1_e, pi_t, alpha, h, b, s_t, gamma, pi_t_e, pi_tm1, y_tm1, s_tm1"
   ]
  },
  {
   "cell_type": "code",
   "execution_count": 287,
   "metadata": {},
   "outputs": [
    {
     "data": {
      "image/png": "[encoded data removed]",
      "text/latex": [
       "$\\displaystyle \\left( \\pi_t = \\frac{v_{t} - y_{t} \\left(\\alpha b + 1\\right)}{\\alpha h}, \\  \\pi_t = \\pi_{t-1} - \\gamma \\phi y_{t-1} + \\gamma y_{t} - \\phi s_{t-1} + s_{t}\\right)$"
      ],
      "text/plain": [
       "⎛       vₜ - yₜ⋅(α⋅b + 1)                                                     \n",
       "⎜\\piₜ = ─────────────────, \\piₜ = \\pi_{t-1} - γ⋅φ⋅y_{t-1} + γ⋅yₜ - φ⋅s_{t-1} +\n",
       "⎝              α⋅h                                                            \n",
       "\n",
       "   ⎞\n",
       " sₜ⎟\n",
       "   ⎠"
      ]
     },
     "execution_count": 287,
     "metadata": {},
     "output_type": "execute_result"
    }
   ],
   "source": [
    "AD = sp.Eq(pi_t, (1/(h*alpha)) * (v_t - (1 + b*alpha)*y_t) )\n",
    "SRAS = sp.Eq(pi_t, pi_tm1 + gamma*y_t - phi*gamma*y_tm1 + s_t - phi*s_tm1)\n",
    "\n",
    "AD, SRAS"
   ]
  },
  {
   "cell_type": "code",
   "execution_count": 288,
   "metadata": {},
   "outputs": [
    {
     "data": {
      "image/png": "[encoded data removed]",
      "text/latex": [
       "$\\displaystyle \\left\\{ \\pi_t : \\frac{\\gamma v_{t} + \\left(\\alpha b + 1\\right) \\left(\\pi_{t-1} - \\gamma \\phi y_{t-1} - \\phi s_{t-1} + s_{t}\\right)}{\\alpha b + \\alpha \\gamma h + 1}, \\  y_{t} : \\frac{- \\pi_{t-1} \\alpha h + \\alpha \\gamma h \\phi y_{t-1} + \\alpha h \\phi s_{t-1} - \\alpha h s_{t} + v_{t}}{\\alpha b + \\alpha \\gamma h + 1}\\right\\}$"
      ],
      "text/plain": [
       "⎧      γ⋅vₜ + (α⋅b + 1)⋅(\\pi_{t-1} - γ⋅φ⋅y_{t-1} - φ⋅s_{t-1} + sₜ)      -\\pi_{\n",
       "⎨\\piₜ: ───────────────────────────────────────────────────────────, yₜ: ──────\n",
       "⎩                            α⋅b + α⋅γ⋅h + 1                                  \n",
       "\n",
       "t-1}⋅α⋅h + α⋅γ⋅h⋅φ⋅y_{t-1} + α⋅h⋅φ⋅s_{t-1} - α⋅h⋅sₜ + vₜ⎫\n",
       "────────────────────────────────────────────────────────⎬\n",
       "                 α⋅b + α⋅γ⋅h + 1                        ⎭"
      ]
     },
     "execution_count": 288,
     "metadata": {},
     "output_type": "execute_result"
    }
   ],
   "source": [
    "SRAS_AD_solution = sp.solve((AD,SRAS), (y_t, pi_t))\n",
    "SRAS_AD_solution"
   ]
  },
  {
   "cell_type": "markdown",
   "metadata": {},
   "source": [
    "Thus we find that $\\pi_t$ is "
   ]
  },
  {
   "cell_type": "code",
   "execution_count": 289,
   "metadata": {},
   "outputs": [
    {
     "data": {
      "image/png": "[encoded data removed]",
      "text/latex": [
       "$\\displaystyle \\frac{\\gamma v_{t} + \\left(\\alpha b + 1\\right) \\left(\\pi_{t-1} - \\gamma \\phi y_{t-1} - \\phi s_{t-1} + s_{t}\\right)}{\\alpha b + \\alpha \\gamma h + 1}$"
      ],
      "text/plain": [
       "γ⋅vₜ + (α⋅b + 1)⋅(\\pi_{t-1} - γ⋅φ⋅y_{t-1} - φ⋅s_{t-1} + sₜ)\n",
       "───────────────────────────────────────────────────────────\n",
       "                      α⋅b + α⋅γ⋅h + 1                      "
      ]
     },
     "execution_count": 289,
     "metadata": {},
     "output_type": "execute_result"
    }
   ],
   "source": [
    "SRAS_AD_solution[pi_t]"
   ]
  },
  {
   "cell_type": "markdown",
   "metadata": {},
   "source": [
    "And $y_t$ is "
   ]
  },
  {
   "cell_type": "code",
   "execution_count": 290,
   "metadata": {},
   "outputs": [
    {
     "data": {
      "image/png": "[encoded data removed]",
      "text/latex": [
       "$\\displaystyle \\frac{- \\pi_{t-1} \\alpha h + \\alpha \\gamma h \\phi y_{t-1} + \\alpha h \\phi s_{t-1} - \\alpha h s_{t} + v_{t}}{\\alpha b + \\alpha \\gamma h + 1}$"
      ],
      "text/plain": [
       "-\\pi_{t-1}⋅α⋅h + α⋅γ⋅h⋅φ⋅y_{t-1} + α⋅h⋅φ⋅s_{t-1} - α⋅h⋅sₜ + vₜ\n",
       "──────────────────────────────────────────────────────────────\n",
       "                       α⋅b + α⋅γ⋅h + 1                        "
      ]
     },
     "execution_count": 290,
     "metadata": {},
     "output_type": "execute_result"
    }
   ],
   "source": [
    "SRAS_AD_solution[y_t]"
   ]
  },
  {
   "cell_type": "markdown",
   "metadata": {},
   "source": [
    "<br>\n",
    "<br>\n",
    "\n",
    "## Answer to question 2\n",
    "\n",
    "> **Question 2:** Find and illustrate the equilibrium when $y_{t-1} = \\pi_{t-1} = v_t = s_t = s_{t-1} = 0$. Illustrate how the equilibrium changes when instead $v_t = 0.1$.\n",
    "\n",
    "We begin by lambdifying the AD and SRAS curves, as well as the specifications of the equilibrium derived above. The equilibrium values are joined in a single function `ASAD_solution` that returns the $y^*,\\pi^*$ pairs."
   ]
  },
  {
   "cell_type": "code",
   "execution_count": 324,
   "metadata": {},
   "outputs": [],
   "source": [
    "sp.init_printing(pretty_print=False)\n",
    "\n",
    "_AD_curve = sp.lambdify((y_t, v_t, alpha, b, h), AD.rhs)\n",
    "def AD_curve(y_t, v_t,\n",
    "             alpha = par['alpha'], \n",
    "             b = par['b'] , h = par['h']\n",
    "            ):\n",
    "    return _AD_curve(y_t, v_t, alpha, b, h)\n",
    "\n",
    "\n",
    "_SRAS_curve = sp.lambdify((y_t, pi_tm1, gamma, phi, y_tm1, s_tm1, s_t) , SRAS.rhs)\n",
    "def SRAS_curve(y_t, pi_tm1, y_tm1, s_tm1, s_t,\n",
    "               gamma = par['gamma'], phi = par['phi']\n",
    "              ):\n",
    "    return _SRAS_curve(y_t, pi_tm1, gamma, phi, y_tm1, s_tm1, s_t)\n",
    "\n",
    "\n",
    "_x_sol = sp.lambdify( (pi_tm1, alpha, h, gamma, phi, y_tm1, s_tm1, s_t, v_t, b) ,SRAS_AD_solution[y_t])\n",
    "def solution_x_component(v_t, pi_tm1, y_tm1, s_tm1,\n",
    "                         s_t, alpha = par['alpha'], \n",
    "                         h = par['h'] , gamma = par['gamma'], \n",
    "                         phi = par['phi'], b = par['b']\n",
    "                        ):\n",
    "    return _x_sol(pi_tm1, alpha, h, gamma, phi, y_tm1, s_tm1, s_t, v_t, b)\n",
    "\n",
    "\n",
    "_y_sol = sp.lambdify( (gamma, v_t, alpha, b, pi_tm1, phi, y_tm1, s_tm1, s_t, h) ,SRAS_AD_solution[pi_t])\n",
    "def solution_y_component(v_t, pi_tm1, y_tm1, s_tm1, s_t,\n",
    "                         phi = par['phi'], h = par['h'],\n",
    "                         alpha = par['alpha'] , b = par['b'],\n",
    "                         gamma = par['gamma']\n",
    "                        ):\n",
    "    return _y_sol(gamma, v_t, alpha, b, pi_tm1, phi, y_tm1, s_tm1, s_t, h)\n",
    "\n",
    "\n",
    "def ASAD_solution(v_t, pi_tm1, y_tm1, s_tm1, s_t,\n",
    "                  phi = par['phi'], h = par['h'],\n",
    "                  alpha = par['alpha'] , b = par['b'],\n",
    "                  gamma = par['gamma']\n",
    "                ):\n",
    "    x = solution_x_component(v_t, pi_tm1, y_tm1, s_tm1,\n",
    "                         s_t, alpha, h, gamma, phi, b)\n",
    "    \n",
    "    y = solution_y_component(v_t, pi_tm1, y_tm1, s_tm1, s_t,\n",
    "                         phi, h, alpha, b, gamma)\n",
    "    return x,y "
   ]
  },
  {
   "cell_type": "markdown",
   "metadata": {},
   "source": [
    "Then all that is left is to visualize the effect of a shift in $v_1$. Note that the SRAS curve does not depend on $v_1$ and is thus stationary under the change."
   ]
  },
  {
   "cell_type": "code",
   "execution_count": 337,
   "metadata": {},
   "outputs": [
    {
     "data": {
      "image/png": "[encoded data removed]",
      "text/plain": [
       "<Figure size 864x576 with 1 Axes>"
      ]
     },
     "metadata": {
      "needs_background": "light"
     },
     "output_type": "display_data"
    }
   ],
   "source": [
    "def ShiftInV1(v_1):\n",
    "    yspace = np.linspace(-0.1,0.1)\n",
    "    \n",
    "    x0, y0 = ASAD_solution(0,0,0,0,0)\n",
    "    x1, y1 = ASAD_solution(v_1,0,0,0,0)\n",
    "    \n",
    "    fig, ax = plt.subplots(figsize = (12,8))\n",
    "    \n",
    "    ax.plot(yspace, [AD_curve(y, 0) for y in yspace], color = 'blue', label = 'AD, $v_t=0$')\n",
    "    ax.plot(yspace, [SRAS_curve(y, 0, 0, 0, 0) for y in yspace], color = 'green', label = 'SRAS')\n",
    "    ax.scatter([x0], [y0], color = 'red', label = '$(y^*, \\pi^*), v_t = 0$')\n",
    "\n",
    "    ax.plot(yspace, [AD_curve(y, v_1) for y in yspace], color = 'blue', linestyle = '--', label = 'AD, $v_t=0.1$')\n",
    "    ax.scatter([x1], [y1], color = 'black', label = '$(y^*, \\pi^*), v_t = 0.1$')\n",
    "\n",
    "    ax.set_xlabel('$y_t$', fontsize = 18)\n",
    "    ax.set_ylabel('$\\pi_t$', fontsize = 18)\n",
    "    ax.set_title(\"Shift in $v_t$\", fontsize = 18)\n",
    "    ax.legend()\n",
    "    \n",
    "    return fig\n",
    "\n",
    "ShiftInV1(0.1)\n",
    "plt.show()"
   ]
  },
  {
   "cell_type": "markdown",
   "metadata": {},
   "source": [
    "<br>\n",
    "<br>\n",
    "\n",
    "## Answer to question 3\n",
    "\n",
    "**Question 3:** Starting from $y_{-1} = \\pi_{-1} = s_{-1} = 0$, how does the economy evolve for $x_0 = 0.1$, $x_t = 0, \\forall t > 0$ and $c_t = 0, \\forall t \\geq 0$?"
   ]
  },
  {
   "cell_type": "markdown",
   "metadata": {},
   "source": [
    "# 3. Exchange economy"
   ]
  },
  {
   "cell_type": "markdown",
   "metadata": {},
   "source": [
    "Consider an **exchange economy** with\n",
    "\n",
    "1. 3 goods, $(x_1,x_2,x_3)$\n",
    "2. $N$ consumers indexed by \\\\( j \\in \\{1,2,\\dots,N\\} \\\\)\n",
    "3. Preferences are Cobb-Douglas with log-normally distributed coefficients\n",
    "\n",
    "    $$ \\begin{eqnarray*}\n",
    "    u^{j}(x_{1},x_{2},x_{3}) &=& \n",
    "    \\left(x_{1}^{\\beta_{1}^{j}}x_{2}^{\\beta_{2}^{j}}x_{3}^{\\beta_{3}^{j}}\\right)^{\\gamma}\\\\\n",
    "     &  & \\,\\,\\,\\beta_{i}^{j}=\\frac{\\alpha_{i}^{j}}{\\alpha_{1}^{j}+\\alpha_{2}^{j}+\\alpha_{3}^{j}} \\\\\n",
    "     &  & \\,\\,\\,\\boldsymbol{\\alpha}^{j}=(\\alpha_{1}^{j},\\alpha_{2}^{j},\\alpha_{3}^{j}) \\\\ \n",
    "     &  & \\,\\,\\,\\log(\\boldsymbol{\\alpha}^j) \\sim \\mathcal{N}(\\mu,\\Sigma) \\\\\n",
    "    \\end{eqnarray*} $$\n",
    "\n",
    "4. Endowments are exponentially distributed,\n",
    "\n",
    "$$\n",
    "\\begin{eqnarray*}\n",
    "\\boldsymbol{e}^{j} &=& (e_{1}^{j},e_{2}^{j},e_{3}^{j}) \\\\\n",
    " &  & e_i^j \\sim f, f(z;\\zeta) =  1/\\zeta \\exp(-z/\\zeta)\n",
    "\\end{eqnarray*}\n",
    "$$"
   ]
  },
  {
   "cell_type": "markdown",
   "metadata": {},
   "source": [
    "Let $p_3 = 1$ be the **numeraire**. The implied **demand functions** are:\n",
    "\n",
    "$$\n",
    "\\begin{eqnarray*}\n",
    "x_{i}^{\\star j}(p_{1},p_{2},\\boldsymbol{e}^{j})&=&\\beta^{j}_i\\frac{I^j}{p_{i}} \\\\\n",
    "\\end{eqnarray*}\n",
    "$$\n",
    "\n",
    "where consumer $j$'s income is\n",
    "\n",
    "$$I^j = p_1 e_1^j + p_2 e_2^j +p_3 e_3^j$$"
   ]
  },
  {
   "cell_type": "markdown",
   "metadata": {},
   "source": [
    "The **parameters** and **random preferences and endowments** are given by:"
   ]
  },
  {
   "cell_type": "code",
   "execution_count": 7,
   "metadata": {},
   "outputs": [],
   "source": [
    "# a. parameters\n",
    "N = 50000\n",
    "mu = np.array([3,2,1])\n",
    "Sigma = np.array([[0.25, 0, 0], [0, 0.25, 0], [0, 0, 0.25]])\n",
    "gamma = 0.8\n",
    "zeta = 1\n",
    "\n",
    "# b. random draws\n",
    "seed = 1986\n",
    "np.random.seed(seed)\n",
    "\n",
    "# preferences\n",
    "alphas = np.exp(np.random.multivariate_normal(mu, Sigma, size=N))\n",
    "betas = alphas/np.reshape(np.sum(alphas,axis=1),(N,1))\n",
    "\n",
    "# endowments\n",
    "e1 = np.random.exponential(zeta,size=N)\n",
    "e2 = np.random.exponential(zeta,size=N)\n",
    "e3 = np.random.exponential(zeta,size=N)"
   ]
  },
  {
   "cell_type": "markdown",
   "metadata": {},
   "source": [
    "**Question 1:** Plot the histograms of the budget shares for each good across agents.\n",
    "\n",
    "Consider the **excess demand functions:**\n",
    "\n",
    "$$ z_i(p_1,p_2) = \\sum_{j=1}^N x_{i}^{\\star j}(p_{1},p_{2},\\boldsymbol{e}^{j}) - e_i^j$$\n",
    "\n",
    "**Question 2:** Plot the excess demand functions."
   ]
  },
  {
   "cell_type": "markdown",
   "metadata": {},
   "source": [
    "**Quesiton 3:** Find the Walras-equilibrium prices, $(p_1,p_2)$, where both excess demands are (approximately) zero, e.g. by using the following tâtonnement process:\n",
    "\n",
    "1. Guess on $p_1 > 0$, $p_2 > 0$ and choose tolerance $\\epsilon > 0$ and adjustment aggressivity parameter, $\\kappa > 0$.\n",
    "2. Calculate $z_1(p_1,p_2)$ and $z_2(p_1,p_2)$.\n",
    "3. If $|z_1| < \\epsilon$ and $|z_2| < \\epsilon$ then stop.\n",
    "4. Else set $p_1 = p_1 + \\kappa \\frac{z_1}{N}$ and $p_2 = p_2 + \\kappa \\frac{z_2}{N}$ and return to step 2."
   ]
  },
  {
   "cell_type": "markdown",
   "metadata": {},
   "source": [
    "**Question 4:** Plot the distribution of utility in the Walras-equilibrium and calculate its mean and variance."
   ]
  },
  {
   "cell_type": "markdown",
   "metadata": {},
   "source": [
    "**Question 5:** Find the Walras-equilibrium prices if instead all endowments were distributed equally. Discuss the implied changes in the distribution of utility. Does the value of $\\gamma$ play a role for your conclusions?"
   ]
  }
 ],
 "metadata": {
  "kernelspec": {
   "display_name": "Python 3",
   "language": "python",
   "name": "python3"
  },
  "language_info": {
   "codemirror_mode": {
    "name": "ipython",
    "version": 3
   },
   "file_extension": ".py",
   "mimetype": "text/x-python",
   "name": "python",
   "nbconvert_exporter": "python",
   "pygments_lexer": "ipython3",
   "version": "3.7.3"
  },
  "toc-autonumbering": false
 },
 "nbformat": 4,
 "nbformat_minor": 2
}
