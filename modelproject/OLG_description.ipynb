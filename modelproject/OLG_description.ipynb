{
 "cells": [
  {
   "cell_type": "markdown",
   "metadata": {},
   "source": [
    "# Overlapping Generations Model (OLG) \n",
    "### The Usefulness of the Model\n",
    "The key ingredient of the OLG model is exogenous population turnover. Individuals in the population live for two periods, one in which they work and save, and the second in which they are 'old', do not work, but rather live off their savings.  \n",
    "The model can be used to assess various systems of 'social security'; is there a place for the government in providing for the older generation?  \n",
    "In the following, we describe the basic model setup, and go through how to solve the model analytically. A reader who is familiar with the OLG model may choose to simple skip these next steps and go straight to our coded implementation - our model setup is entirely standard, and as presented e.g. in Macro III at KU.   \n",
    "\n",
    "### Model Setup\n",
    "Time is discrete and infinite, $t = 0,1,2,...$.  \n",
    "Population grows at a constant rate, n: \n",
    "    $$ L_t = L_{t-1}(1+n)$$\n",
    "This implies, that in every period t, there are $L_t$ 'young' (working) individuals, and $L_{t-1}$ 'old' (non-working) individuals.  Agents derive utility from consumption in each of the two periods they are alive:\n",
    "    $$U_t = u(c_{1t})+\\frac{1}{1+\\rho} \\cdot u(c_{2t+1})$$\n",
    "Where $c_{1t}$ is consumption of the young at time t, $c_{2t+1}$ is consumption of old at time $t+1$ and $\\rho$ is a discount factor.  \n",
    "Let $r_{t+1}$ denote the interest rate between $t$ and $t+1$. Then individuals are budget constrained in each period of their live as follows:\n",
    "    $$c_{1t} + s_{t} = w_t$$ \n",
    "    $$c_{2t+1} = (1+r_{t+1})\\cdot s_t$$\n",
    "Substituting for s, we get the following life-time constraint:\n",
    "    $$c_{1+t} + \\frac{c_{2t+1}}{1+r_{t+1}} = w_t$$   \n",
    "    \n",
    "\n",
    "In every period t, agents born at time t solve the following problem: \n",
    "    $$\\max_{c_{1t},c_{2t+1}} u(c_{1t})+\\frac{1}{1+\\rho} u(c_{2t+1})$$\n",
    "Subject to the constraint from above:\n",
    "    $$c_{1+t} + \\frac{c_{2t+1}}{1+r_{t+1}} = w_t$$\n",
    "\n",
    "Production is assumed to take place with CRS technology, competitive markets and profit-maximizing firms. This yields:\n",
    "    $$r_t = f'(k_t)$$\n",
    "    $$w_t = f(k_t)-f'(k_t)k_t$$\n",
    "Where $k_t = \\frac{K_t}{L_t}$. Recall, that $L_t$ refers to the *working population* at time t. "
   ]
  },
  {
   "cell_type": "markdown",
   "metadata": {},
   "source": [
    "### Solving the Household Problem\n",
    "The household problem is a standard optimization problem subject to a constraint. We set up the lagrangian: \n",
    "    $$ L(c_{1t},c_{2t+1},\\lambda) = u(c_{1t}) + \\frac{1}{1+\\rho} u(c_{2t+1}) + \\lambda[w_t-c_{1t}-\\frac{c_{2t+1}}{1+r_{t+1}}]$$\n",
    "Differentiate wrt. consumption (in each period): \n",
    "    $$\\frac{\\partial L}{\\partial c_{1t}} = u'(c_{1t}) -\\lambda $$\n",
    "    $$\\frac{\\partial L}{\\partial c_{2t+1}} = \\frac{1}{1+\\rho} u'(c_{2t+1}) -\\frac{\\lambda}{1+r_{t+1}} $$\n",
    "Equate to zero (first order conditions) and substitute for the lagrange multiplier $\\lambda$ to obtain the Euler Equation: \n",
    "    $$u'(c_{1t}) = \\frac{1+r_{t+1}}{1+\\rho} u'(c_{2t+1})$$\n",
    "    \n",
    "### Characterizing Optimal Savings\n",
    "Substitute the budget constrains into the Euler Equation to get:\n",
    "    $$u'(w_t-s_t) = \\frac{1+r_{t+1}}{1+\\rho} u'((1+r_{t+1})s_t)$$\n",
    "This implicitly defines optimal savings as a function of wage and interest rate, i.e. $s(w_t,r_{t+1})$\n",
    "\n",
    "### Law of Motion for Capital \n",
    "Knowing the individual decisions allow us to aggregate economy-wide. The aggregate capital stock at time $t+1$ is equal to aggregate savings in time $t$, aggregate dissaving in time t, and un-depreciated capital carried over from time t. \n",
    "    $$K_{t+1} = S_t -K_t+(1-\\delta)K_t$$ \n",
    "    $$\\Rightarrow K_{t+1} = S_t - \\delta K_t$$ \n",
    "        $$\\Rightarrow k_{t+1}(1+n) = s_t-\\delta k_t$$ \n",
    "        \n",
    "Substituting for savings, substituting for wage and interest rate, and assuming $\\delta = 0$: \n",
    "    $$k_{t+1} (1+n) = s(f(k_t)-k_tf'(k_t),f'(k_{t+1})$$\n",
    "Which implicitly defines the law of motion for aggregate capital per worker.\n",
    "        \n"
   ]
  },
  {
   "cell_type": "code",
   "execution_count": null,
   "metadata": {},
   "outputs": [],
   "source": []
  }
 ],
 "metadata": {
  "kernelspec": {
   "display_name": "Python 3",
   "language": "python",
   "name": "python3"
  },
  "language_info": {
   "codemirror_mode": {
    "name": "ipython",
    "version": 3
   },
   "file_extension": ".py",
   "mimetype": "text/x-python",
   "name": "python",
   "nbconvert_exporter": "python",
   "pygments_lexer": "ipython3",
   "version": "3.7.0"
  }
 },
 "nbformat": 4,
 "nbformat_minor": 2
}
