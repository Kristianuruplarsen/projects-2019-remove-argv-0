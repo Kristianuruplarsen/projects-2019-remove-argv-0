{
 "cells": [
  {
   "cell_type": "markdown",
   "metadata": {},
   "source": [
    "# Overlapping Generations Model (OLG) \n",
    "### The Usefulness of the Model\n",
    "The key ingredient of the OLG model is exogenous population turnover. Individuals in the population live for two periods, one in which they work and save, and the second in which they are 'old', do not work, but rather live off their savings.  \n",
    "The model can be used to assess various systems of 'social security'; is there a place for the government in providing for the older generation?  \n",
    "In the following, we describe the basic model setup, and go through how to solve the model analytically. A reader who is familiar with the OLG model may choose to simple skip these next steps and go straight to our coded implementation - our model setup is entirely standard, and as presented e.g. in Macro III at KU.   \n",
    "\n",
    "### Model Setup\n",
    "Time is discrete and infinite, $t = 0,1,2,...$.  \n",
    "Population grows at a constant rate, n: \n",
    "    $$ L_t = L_{t-1}(1+n)$$\n",
    "This implies, that in every period t, there are $L_t$ 'young' (working) individuals, and $L_{t-1}$ 'old' (non-working) individuals.  Agents derive utility from consumption in each of the two periods they are alive:\n",
    "    $$U_t = u(c_{1t})+\\frac{1}{1+\\rho} \\cdot u(c_{2t+1})$$\n",
    "Where $c_{1t}$ is consumption of the young at time t, $c_{2t+1}$ is consumption of old at time $t+1$ and $\\rho$ is a discount factor.  \n",
    "Let $r_{t+1}$ denote the interest rate between $t$ and $t+1$. Then individuals are budget constrained in each period of their live as follows:\n",
    "    $$c_{1t} + s_{t} = w_t$$ \n",
    "    $$c_{2t+1} = (1+r_{t+1})\\cdot s_t$$\n",
    "Substituting for s, we get the following life-time constraint:\n",
    "    $$c_{1+t} + \\frac{c_{2t+1}}{1+r_{t+1}} = w_t$$   \n",
    "    \n",
    "\n",
    "In every period t, agents born at time t solve the following problem: \n",
    "    $$\\max_{c_{1t},c_{2t+1}} u(c_{1t})+\\frac{1}{1+\\rho} u(c_{2t+1})$$\n",
    "Subject to the constraint from above:\n",
    "    $$c_{1+t} + \\frac{c_{2t+1}}{1+r_{t+1}} = w_t$$\n",
    "\n",
    "Production is assumed to take place with CRS technology, competitive markets and profit-maximizing firms. This yields:\n",
    "    $$r_t = f'(k_t)$$\n",
    "    $$w_t = f(k_t)-f'(k_t)k_t$$\n",
    "Where $k_t = \\frac{K_t}{L_t}$. Recall, that $L_t$ refers to the *working population* at time t. "
   ]
  },
  {
   "cell_type": "markdown",
   "metadata": {},
   "source": [
    "### Solving the Household Problem\n",
    "The household problem is a standard optimization problem subject to a constraint. We set up the lagrangian: \n",
    "    $$ L(c_{1t},c_{2t+1},\\lambda) = u(c_{1t}) + \\frac{1}{1+\\rho} u(c_{2t+1}) + \\lambda[w_t-c_{1t}-\\frac{c_{2t+1}}{1+r_{t+1}}]$$\n",
    "Differentiate wrt. consumption (in each period): \n",
    "    $$\\frac{\\partial L}{\\partial c_{1t}} = u'(c_{1t}) -\\lambda $$\n",
    "    $$\\frac{\\partial L}{\\partial c_{2t+1}} = \\frac{1}{1+\\rho} u'(c_{2t+1}) -\\frac{\\lambda}{1+r_{t+1}} $$\n",
    "Equate to zero (first order conditions) and substitute for the lagrange multiplier $\\lambda$ to obtain the Euler Equation: \n",
    "    $$u'(c_{1t}) = \\frac{1+r_{t+1}}{1+\\rho} u'(c_{2t+1})$$\n",
    "    \n",
    "### Characterizing Optimal Savings\n",
    "Substitute the budget constrains into the Euler Equation to get:\n",
    "    $$u'(w_t-s_t) = \\frac{1+r_{t+1}}{1+\\rho} u'((1+r_{t+1})s_t)$$\n",
    "This implicitly defines optimal savings as a function of wage and interest rate, i.e. $s(w_t,r_{t+1})$\n",
    "\n",
    "### Law of Motion for Capital \n",
    "Knowing the individual decisions allow us to aggregate economy-wide. The aggregate capital stock at time $t+1$ is equal to aggregate savings in time $t$, aggregate dissaving in time t, and un-depreciated capital carried over from time t. \n",
    "    $$K_{t+1} = S_t -K_t+(1-\\delta)K_t$$ \n",
    "    $$\\Rightarrow K_{t+1} = S_t - \\delta K_t$$ \n",
    "        $$\\Rightarrow k_{t+1}(1+n) = s_t-\\delta k_t$$ \n",
    "        \n",
    "Substituting for savings, substituting for wage and interest rate, and assuming $\\delta = 0$: \n",
    "    $$k_{t+1} (1+n) = s(f(k_t)-k_tf'(k_t),f'(k_{t+1})$$\n",
    "Which implicitly defines the law of motion for aggregate capital per worker.\n",
    "        \n"
   ]
  },
  {
   "cell_type": "code",
   "execution_count": 1,
   "metadata": {},
   "outputs": [],
   "source": [
    "import numpy as np \n",
    "import sympy as sp \n",
    "import matplotlib.pyplot as plt \n",
    "\n",
    "from modelproject.model import *"
   ]
  },
  {
   "cell_type": "code",
   "execution_count": 2,
   "metadata": {},
   "outputs": [],
   "source": [
    "sp.init_printing()"
   ]
  },
  {
   "cell_type": "markdown",
   "metadata": {},
   "source": [
    "We solve the OLG model using sympy, thus we begin by setting up symbols for the variables we use"
   ]
  },
  {
   "cell_type": "code",
   "execution_count": 3,
   "metadata": {},
   "outputs": [],
   "source": [
    "rho = sp.symbols('rho')\n",
    "delta = sp.symbols('delta')\n",
    "n = sp.symbols('n')\n",
    "\n",
    "c1 = sp.symbols('c_{1t}')\n",
    "c2 = sp.symbols('c_{2t+1}')\n",
    "\n",
    "r = sp.symbols('r_{t+1}')\n",
    "w = sp.symbols('w_t')\n",
    "\n",
    "s = sp.symbols('s_t')\n",
    "k = sp.symbols('k_t')\n",
    "kp1 = sp.symbols('k_{t+1}')\n",
    "\n",
    "lmbda = sp.symbols('lambda')"
   ]
  },
  {
   "cell_type": "markdown",
   "metadata": {},
   "source": [
    "next we define the standard log utility, and a placeholder that keeps the code general for the derivations"
   ]
  },
  {
   "cell_type": "code",
   "execution_count": 4,
   "metadata": {},
   "outputs": [
    {
     "data": {
      "image/png": "[encoded data removed]",
      "text/latex": [
       "$$u{\\left (c_{1t} \\right )} + \\frac{u{\\left (c_{2t+1} \\right )}}{\\rho + 1}$$"
      ],
      "text/plain": [
       "            u(c_{2t+1})\n",
       "u(c_{1t}) + ───────────\n",
       "               ρ + 1   "
      ]
     },
     "execution_count": 4,
     "metadata": {},
     "output_type": "execute_result"
    }
   ],
   "source": [
    "def log_u(c):\n",
    "    return sp.log(c)\n",
    "\n",
    "u_undetermined = sp.Function('u')\n",
    "\n",
    "\n",
    "def U(c1, c2, rho, u):\n",
    "    return u(c1) + 1 / (1 + rho) * u(c2)\n",
    "\n",
    "U(c1, c2, rho, u = u_undetermined)"
   ]
  },
  {
   "cell_type": "markdown",
   "metadata": {},
   "source": [
    "We define budget constraints and calculate the intertemporal constraint"
   ]
  },
  {
   "cell_type": "code",
   "execution_count": 5,
   "metadata": {},
   "outputs": [
    {
     "data": {
      "image/png": "[encoded data removed]",
      "text/latex": [
       "$$\\left ( w_{t} = c_{1t} + s_{t}, \\quad c_{2t+1} = s_{t} \\left(r_{t+1} + 1\\right)\\right )$$"
      ],
      "text/plain": [
       "(wₜ = c_{1t} + sₜ, c_{2t+1} = sₜ⋅(r_{t+1} + 1))"
      ]
     },
     "execution_count": 5,
     "metadata": {},
     "output_type": "execute_result"
    }
   ],
   "source": [
    "period_1_budget = sp.Eq(w, c1 + s)\n",
    "period_2_budget = sp.Eq(c2, (1+r)*s)\n",
    "\n",
    "period_1_budget, period_2_budget"
   ]
  },
  {
   "cell_type": "code",
   "execution_count": 6,
   "metadata": {},
   "outputs": [
    {
     "data": {
      "image/png": "[encoded data removed]",
      "text/latex": [
       "$$w_{t} = c_{1t} + \\frac{c_{2t+1}}{r_{t+1} + 1}$$"
      ],
      "text/plain": [
       "                c_{2t+1} \n",
       "wₜ = c_{1t} + ───────────\n",
       "              r_{t+1} + 1"
      ]
     },
     "execution_count": 6,
     "metadata": {},
     "output_type": "execute_result"
    }
   ],
   "source": [
    "inter_budget = period_1_budget.subs(s, sp.solve(period_2_budget, s)[0])\n",
    "inter_budget"
   ]
  },
  {
   "cell_type": "markdown",
   "metadata": {},
   "source": [
    "next we set up the lagrangian and calculate the relevant first derivatives "
   ]
  },
  {
   "cell_type": "code",
   "execution_count": 7,
   "metadata": {},
   "outputs": [
    {
     "data": {
      "image/png": "[encoded data removed]",
      "text/latex": [
       "$$- \\lambda \\left(c_{1t} + \\frac{c_{2t+1}}{r_{t+1} + 1} - w_{t}\\right) + u{\\left (c_{1t} \\right )} + \\frac{u{\\left (c_{2t+1} \\right )}}{\\rho + 1}$$"
      ],
      "text/plain": [
       "    ⎛           c_{2t+1}      ⎞               u(c_{2t+1})\n",
       "- λ⋅⎜c_{1t} + ─────────── - wₜ⎟ + u(c_{1t}) + ───────────\n",
       "    ⎝         r_{t+1} + 1     ⎠                  ρ + 1   "
      ]
     },
     "execution_count": 7,
     "metadata": {},
     "output_type": "execute_result"
    }
   ],
   "source": [
    "lagrangian = U(c1,c2,rho, u = u_undetermined) - lmbda *  (inter_budget.rhs - w)\n",
    "lagrangian"
   ]
  },
  {
   "cell_type": "code",
   "execution_count": 8,
   "metadata": {},
   "outputs": [
    {
     "data": {
      "image/png": "[encoded data removed]",
      "text/latex": [
       "$$\\left ( - \\lambda + \\frac{d}{d c_{1t}} u{\\left (c_{1t} \\right )}, \\quad - \\frac{\\lambda}{r_{t+1} + 1} + \\frac{\\frac{d}{d c_{2t+1}} u{\\left (c_{2t+1} \\right )}}{\\rho + 1}, \\quad - c_{1t} - \\frac{c_{2t+1}}{r_{t+1} + 1} + w_{t}\\right )$$"
      ],
      "text/plain": [
       "⎛                                             d                               \n",
       "⎜                                         ─────────(u(c_{2t+1}))              \n",
       "⎜        d                       λ        dc_{2t+1}                           \n",
       "⎜-λ + ───────(u(c_{1t})), - ─────────── + ──────────────────────, -c_{1t} - ──\n",
       "⎝     dc_{1t}               r_{t+1} + 1           ρ + 1                     r_\n",
       "\n",
       "              ⎞\n",
       "              ⎟\n",
       "c_{2t+1}      ⎟\n",
       "───────── + wₜ⎟\n",
       "{t+1} + 1     ⎠"
      ]
     },
     "execution_count": 8,
     "metadata": {},
     "output_type": "execute_result"
    }
   ],
   "source": [
    "dc1    = sp.diff(lagrangian, c1) \n",
    "dc2    = sp.diff(lagrangian, c2) \n",
    "dlmbda = sp.diff(lagrangian, lmbda)\n",
    "\n",
    "dc1, dc2, dlmbda"
   ]
  },
  {
   "cell_type": "markdown",
   "metadata": {},
   "source": [
    "Calculate euler equation"
   ]
  },
  {
   "cell_type": "markdown",
   "metadata": {},
   "source": [
    "Finally we call our `make_euler_equation` function with the derivatives of the lagrangian as inputs. We the nsubstitute in the within period budget constraints to gen an exproession in terms of savings wages and interest rate."
   ]
  },
  {
   "cell_type": "code",
   "execution_count": 99,
   "metadata": {},
   "outputs": [
    {
     "data": {
      "image/png": "[encoded data removed]",
      "text/latex": [
       "$$\\frac{d}{d c_{1t}} u{\\left (c_{1t} \\right )} = \\frac{\\frac{d}{d c_{2t+1}} u{\\left (c_{2t+1} \\right )}}{\\rho + 1} \\left(r_{t+1} + 1\\right)$$"
      ],
      "text/plain": [
       "                                       d                 \n",
       "                     (r_{t+1} + 1)⋅─────────(u(c_{2t+1}))\n",
       "   d                               dc_{2t+1}             \n",
       "───────(u(c_{1t})) = ────────────────────────────────────\n",
       "dc_{1t}                             ρ + 1                "
      ]
     },
     "execution_count": 99,
     "metadata": {},
     "output_type": "execute_result"
    }
   ],
   "source": [
    "euler_eq = make_euler_equation(dc1, dc2, u = u_undetermined, c1 = c1, lmbda = lmbda)\n",
    "euler_eq"
   ]
  },
  {
   "cell_type": "code",
   "execution_count": 11,
   "metadata": {},
   "outputs": [
    {
     "data": {
      "image/png": "[encoded data removed]",
      "text/latex": [
       "$$\\left. \\frac{d}{d c_{1t}} u{\\left (c_{1t} \\right )} \\right|_{\\substack{ c_{1t}=- s_{t} + w_{t} }} = \\frac{1}{\\rho + 1} \\left(r_{t+1} + 1\\right) \\left. \\frac{d}{d c_{2t+1}} u{\\left (c_{2t+1} \\right )} \\right|_{\\substack{ c_{2t+1}=s_{t} \\left(r_{t+1} + 1\\right) }}$$"
      ],
      "text/plain": [
       "                                                     ⎛    d                 ⎞│\n",
       "                                       (r_{t+1} + 1)⋅⎜─────────(u(c_{2t+1}))⎟│\n",
       "⎛   d              ⎞│                                ⎝dc_{2t+1}             ⎠│\n",
       "⎜───────(u(c_{1t}))⎟│                = ───────────────────────────────────────\n",
       "⎝dc_{1t}           ⎠│c_{1t}=-sₜ + wₜ                                ρ + 1     \n",
       "\n",
       "                         \n",
       "                         \n",
       "c_{2t+1}=sₜ⋅(r_{t+1} + 1)\n",
       "─────────────────────────\n",
       "                         "
      ]
     },
     "execution_count": 11,
     "metadata": {},
     "output_type": "execute_result"
    }
   ],
   "source": [
    "euler_eq = euler_eq.subs(c1, w - s).subs(c2, period_2_budget.rhs)\n",
    "euler_eq"
   ]
  },
  {
   "cell_type": "markdown",
   "metadata": {},
   "source": [
    "Implicitly the euler equation determines $s$, now we move to determine the evolution of captial in the economy.\n",
    "\n",
    "This is also a good spot to set the actual functional form of $u$, we use a $log$ function here as it is analytically solveable, and explore using the square root further down."
   ]
  },
  {
   "cell_type": "code",
   "execution_count": 12,
   "metadata": {},
   "outputs": [
    {
     "data": {
      "image/png": "[encoded data removed]",
      "text/latex": [
       "$$\\frac{1}{- s_{t} + w_{t}} = \\frac{1}{s_{t} \\left(\\rho + 1\\right)}$$"
      ],
      "text/plain": [
       "   1           1     \n",
       "──────── = ──────────\n",
       "-sₜ + wₜ   sₜ⋅(ρ + 1)"
      ]
     },
     "execution_count": 12,
     "metadata": {},
     "output_type": "execute_result"
    }
   ],
   "source": [
    "euler_eq = euler_eq.replace(u_undetermined, log_u).doit()\n",
    "euler_eq"
   ]
  },
  {
   "cell_type": "markdown",
   "metadata": {},
   "source": [
    "Next setup for firms. We show the aggregate production function but the work with the per capita normalized version to calculate expressions for the equilibrium interest rates and wages."
   ]
  },
  {
   "cell_type": "code",
   "execution_count": 13,
   "metadata": {},
   "outputs": [
    {
     "data": {
      "image/png": "[encoded data removed]",
      "text/latex": [
       "$$Y_{t} = K_{t}^{\\alpha} L_{t}^{- \\alpha + 1}$$"
      ],
      "text/plain": [
       "       α   -α + 1\n",
       "Yₜ = Kₜ ⋅Lₜ      "
      ]
     },
     "execution_count": 13,
     "metadata": {},
     "output_type": "execute_result"
    }
   ],
   "source": [
    "Y = sp.symbols('Y_t')\n",
    "K = sp.symbols('K_t')\n",
    "L = sp.symbols('L_t')\n",
    "\n",
    "y = sp.symbols('y_t')\n",
    "\n",
    "alpha = sp.symbols('alpha')\n",
    "\n",
    "production_function = sp.Eq(\n",
    "    Y,\n",
    "    K**alpha * L**(1-alpha)\n",
    ")\n",
    "production_function\n"
   ]
  },
  {
   "cell_type": "code",
   "execution_count": 14,
   "metadata": {},
   "outputs": [
    {
     "data": {
      "image/png": "[encoded data removed]",
      "text/latex": [
       "$$y_{t} = k_{t}^{\\alpha}$$"
      ],
      "text/plain": [
       "       α\n",
       "yₜ = kₜ "
      ]
     },
     "execution_count": 14,
     "metadata": {},
     "output_type": "execute_result"
    }
   ],
   "source": [
    "norm_prod_func = sp.Eq(y, k**alpha)\n",
    "norm_prod_func"
   ]
  },
  {
   "cell_type": "markdown",
   "metadata": {},
   "source": [
    "Define interest rate and wage "
   ]
  },
  {
   "cell_type": "code",
   "execution_count": 15,
   "metadata": {},
   "outputs": [
    {
     "data": {
      "image/png": "[encoded data removed]",
      "text/latex": [
       "$$\\left ( r_{t+1} = \\frac{\\alpha k_{t}^{\\alpha}}{k_{t}}, \\quad w_{t} = - \\alpha k_{t}^{\\alpha} + k_{t}^{\\alpha}\\right )$$"
      ],
      "text/plain": [
       "⎛              α                    ⎞\n",
       "⎜          α⋅kₜ              α     α⎟\n",
       "⎜r_{t+1} = ─────, wₜ = - α⋅kₜ  + kₜ ⎟\n",
       "⎝            kₜ                     ⎠"
      ]
     },
     "execution_count": 15,
     "metadata": {},
     "output_type": "execute_result"
    }
   ],
   "source": [
    "interest_rate = sp.Eq(r, sp.Derivative(norm_prod_func.rhs, k)).doit()\n",
    "wage = sp.Eq(w, norm_prod_func.rhs - k*sp.Derivative(norm_prod_func.rhs, k)).doit()\n",
    "\n",
    "interest_rate, wage"
   ]
  },
  {
   "cell_type": "markdown",
   "metadata": {},
   "source": [
    "Finally from a standard capital depreciation identity we derive a first expression for the evolution of capital in the economy."
   ]
  },
  {
   "cell_type": "code",
   "execution_count": 16,
   "metadata": {},
   "outputs": [
    {
     "data": {
      "image/png": "[encoded data removed]",
      "text/latex": [
       "$$k_{t+1} = \\frac{- \\delta k_{t} + s_{t}}{n + 1}$$"
      ],
      "text/plain": [
       "          -δ⋅kₜ + sₜ\n",
       "k_{t+1} = ──────────\n",
       "            n + 1   "
      ]
     },
     "execution_count": 16,
     "metadata": {},
     "output_type": "execute_result"
    }
   ],
   "source": [
    "evolution = sp.Eq(kp1, 1/(1+n)* (s - delta*k) )\n",
    "evolution"
   ]
  },
  {
   "cell_type": "markdown",
   "metadata": {},
   "source": [
    "Using the euler equation and the capital evolution path we can derive the transition path of the economy"
   ]
  },
  {
   "cell_type": "code",
   "execution_count": 17,
   "metadata": {},
   "outputs": [
    {
     "data": {
      "image/png": "[encoded data removed]",
      "text/latex": [
       "$$k_{t+1} = \\frac{1}{n + 1} \\left(- \\delta k_{t} + \\frac{- \\alpha k_{t}^{\\alpha} + k_{t}^{\\alpha}}{\\rho + 2}\\right)$$"
      ],
      "text/plain": [
       "                        α     α\n",
       "                  - α⋅kₜ  + kₜ \n",
       "          -δ⋅kₜ + ─────────────\n",
       "                      ρ + 2    \n",
       "k_{t+1} = ─────────────────────\n",
       "                  n + 1        "
      ]
     },
     "execution_count": 17,
     "metadata": {},
     "output_type": "execute_result"
    }
   ],
   "source": [
    "savings_of_k = sp.solve(euler_eq, s)[0].subs(w, wage.rhs)\n",
    "\n",
    "# Only substitute \n",
    "if r in savings_of_k.atoms():\n",
    "    savings_of_k = savings_of_k.subs(r, interest_rate.rhs)\n",
    "\n",
    "    \n",
    "transition_eq = evolution.subs(s, savings_of_k)\n",
    "transition_eq"
   ]
  },
  {
   "cell_type": "markdown",
   "metadata": {},
   "source": [
    "In the following section we show visualizations of the capital accumulation path for various parametrizations, including varying $\\alpha$ and $\\n$."
   ]
  },
  {
   "cell_type": "code",
   "execution_count": 18,
   "metadata": {},
   "outputs": [],
   "source": [
    "_transition_func = sp.lambdify((k, rho, delta, n, alpha, r), transition_eq.rhs)\n",
    "\n",
    "def transition_func(k, alpha, rho, delta, n, r = 0):\n",
    "    return _transition_func(k, rho, delta, n , alpha, r)"
   ]
  },
  {
   "cell_type": "code",
   "execution_count": 19,
   "metadata": {},
   "outputs": [],
   "source": [
    "_equilibrium = sp.lambdify(\n",
    "    (alpha, n, rho, delta),\n",
    "    sp.solve(transition_eq.subs(kp1, k), k)[0]\n",
    "            )\n",
    "\n",
    "def equilibrium(alpha, n, rho, delta):\n",
    "    return _equilibrium(alpha, n, rho, delta)"
   ]
  },
  {
   "cell_type": "markdown",
   "metadata": {},
   "source": [
    "Visualizing variation in $\\alpha$"
   ]
  },
  {
   "cell_type": "code",
   "execution_count": 20,
   "metadata": {},
   "outputs": [
    {
     "data": {
      "text/plain": [
       "Text(0.5,1,'Transition curves for varying $\\\\alpha$')"
      ]
     },
     "execution_count": 20,
     "metadata": {},
     "output_type": "execute_result"
    },
    {
     "data": {
      "image/png": "[encoded data removed]",
      "text/plain": [
       "<Figure size 432x288 with 1 Axes>"
      ]
     },
     "metadata": {
      "needs_background": "light"
     },
     "output_type": "display_data"
    }
   ],
   "source": [
    "xr = np.linspace(0,2,1000)\n",
    "_r = 0.05\n",
    "_d = 0.02\n",
    "_n = 0.02\n",
    "\n",
    "for _a in np.linspace(0.1, 0.5, 5):\n",
    "\n",
    "    res = [transition_func(k = x, alpha = _a, rho = _r, delta = _d, n = _n) for x in xr]\n",
    "    kstar = equilibrium(alpha = _a, rho = _r, n = _n, delta = _d)\n",
    "    plt.plot(xr, res, color = 'blue', alpha = 1)    \n",
    "    plt.scatter([kstar], [kstar], color = 'red')\n",
    "    plt.annotate(f'$\\\\alpha$={round(_a,2)}', xy= (kstar + 0.01, kstar - 0.02))\n",
    "\n",
    "plt.plot(xr, xr, color = 'black')\n",
    "plt.xlim(0,0.5)\n",
    "plt.ylim(0,0.5)\n",
    "plt.xlabel('$k_t$')\n",
    "plt.ylabel('$k_{t+1}$')\n",
    "plt.title('Transition curves for varying $\\\\alpha$')"
   ]
  },
  {
   "cell_type": "markdown",
   "metadata": {},
   "source": [
    "Visualizing variation in $n$"
   ]
  },
  {
   "cell_type": "code",
   "execution_count": 21,
   "metadata": {},
   "outputs": [
    {
     "data": {
      "text/plain": [
       "Text(0.5,1,'Transition curves for varying $n$')"
      ]
     },
     "execution_count": 21,
     "metadata": {},
     "output_type": "execute_result"
    },
    {
     "data": {
      "image/png": "[encoded data removed]",
      "text/plain": [
       "<Figure size 432x288 with 1 Axes>"
      ]
     },
     "metadata": {
      "needs_background": "light"
     },
     "output_type": "display_data"
    }
   ],
   "source": [
    "xr = np.linspace(0,2,1000)\n",
    "_r = 0.05\n",
    "_d = 0.02\n",
    "_a = 0.2\n",
    "#_n = 0.02\n",
    "\n",
    "for _n in np.linspace(0, 1, 5):\n",
    "\n",
    "    res = [transition_func(k = x, alpha = _a, rho = _r, delta = _d, n = _n) for x in xr]\n",
    "    kstar = equilibrium(alpha = _a, rho = _r, n = _n, delta = _d)\n",
    "    plt.plot(xr, res, color = 'blue', alpha = 1)    \n",
    "    plt.scatter([kstar], [kstar], color = 'red')\n",
    "    plt.annotate(f'$n$={round(_n,2)}', xy= (kstar + 0.01, kstar - 0.02))\n",
    "\n",
    "plt.plot(xr, xr, color = 'black')\n",
    "plt.xlim(0,0.5)\n",
    "plt.ylim(0,0.5)\n",
    "plt.xlabel('$k_t$')\n",
    "plt.ylabel('$k_{t+1}$')\n",
    "plt.title('Transition curves for varying $n$')"
   ]
  },
  {
   "cell_type": "markdown",
   "metadata": {},
   "source": [
    "Visualizing the convergence to st.st."
   ]
  },
  {
   "cell_type": "code",
   "execution_count": 22,
   "metadata": {},
   "outputs": [],
   "source": [
    "k_ = 0.0001\n",
    "xr = range(10)\n",
    "xr2 = np.linspace(0,1,1000)\n",
    "\n",
    "_r = 0.05\n",
    "_d = 0.05\n",
    "_a = 0.5\n",
    "_n = 0\n",
    "\n",
    "\n",
    "out = list()\n",
    "\n",
    "for _ in xr:\n",
    "    k_ = transition_func(k = k_, alpha = _a, rho = _r, delta = _d, n = _n)\n",
    "    out.append(k_)\n"
   ]
  },
  {
   "cell_type": "code",
   "execution_count": 23,
   "metadata": {},
   "outputs": [
    {
     "data": {
      "image/png": "[encoded data removed]",
      "text/latex": [
       "$$\\left ( 0, \\quad 0.1\\right )$$"
      ],
      "text/plain": [
       "(0, 0.1)"
      ]
     },
     "execution_count": 23,
     "metadata": {},
     "output_type": "execute_result"
    },
    {
     "data": {
      "image/png": "[encoded data removed]",
      "text/plain": [
       "<Figure size 432x288 with 1 Axes>"
      ]
     },
     "metadata": {
      "needs_background": "light"
     },
     "output_type": "display_data"
    }
   ],
   "source": [
    "res = [transition_func(k = x, alpha = _a, rho = _r, delta = _d, n = _n) for x in xr2]\n",
    "\n",
    "plt.plot(xr, xr, color = 'black')\n",
    "plt.plot(xr2, res, color = 'blue', alpha = 1)    \n",
    "plt.step(out[:-1], out[1:], where = 'post', color = 'red', linestyle = '--', alpha = 0.8)\n",
    "plt.scatter(out[:-1], out[1:], color = 'red', alpha = 0.8)\n",
    "\n",
    "plt.xlim(0,0.1)\n",
    "plt.ylim(0,0.1)"
   ]
  },
  {
   "cell_type": "markdown",
   "metadata": {},
   "source": [
    "## Part 2 - numerical solution with sqrt utility \n",
    "\n",
    "In the section below we first show that there is no analytical solution to the OLG model when the within period utility is given by $u(c)=\\sqrt(c)$. We then show graphically that even though no analytical solution exists, it can be found numerically, and we iteratively identify the aproximate value of $k^*$ with square root utility.\n",
    "\n",
    "The first steps are identical to the ones covered above."
   ]
  },
  {
   "cell_type": "code",
   "execution_count": 24,
   "metadata": {},
   "outputs": [],
   "source": [
    "def sqrt_u(c):\n",
    "    return sp.sqrt(c)"
   ]
  },
  {
   "cell_type": "code",
   "execution_count": 25,
   "metadata": {},
   "outputs": [
    {
     "data": {
      "image/png": "[encoded data removed]",
      "text/latex": [
       "$$\\frac{1}{2 \\sqrt{- s_{t} + w_{t}}} = \\frac{r_{t+1} + 1}{2 \\sqrt{s_{t} \\left(r_{t+1} + 1\\right)} \\left(\\rho + 1\\right)}$$"
      ],
      "text/plain": [
       "      1                   r_{t+1} + 1          \n",
       "────────────── = ──────────────────────────────\n",
       "    __________       __________________        \n",
       "2⋅╲╱ -sₜ + wₜ    2⋅╲╱ sₜ⋅(r_{t+1} + 1) ⋅(ρ + 1)"
      ]
     },
     "execution_count": 25,
     "metadata": {},
     "output_type": "execute_result"
    }
   ],
   "source": [
    "euler_eq = make_euler_equation(dc1, dc2, u = u_undetermined, c1 = c1, lmbda = lmbda)\n",
    "euler_eq = euler_eq.subs(c1, w - s).subs(c2, period_2_budget.rhs)\n",
    "euler_eq = euler_eq.replace(u_undetermined, sqrt_u).doit()\n",
    "euler_eq"
   ]
  },
  {
   "cell_type": "code",
   "execution_count": 26,
   "metadata": {},
   "outputs": [
    {
     "data": {
      "image/png": "[encoded data removed]",
      "text/latex": [
       "$$\\frac{\\left(r_{t+1} + 1\\right) \\left(- \\alpha k_{t}^{\\alpha} + k_{t}^{\\alpha}\\right)}{r_{t+1} + \\rho^{2} + 2 \\rho + 2}$$"
      ],
      "text/plain": [
       "              ⎛      α     α⎞\n",
       "(r_{t+1} + 1)⋅⎝- α⋅kₜ  + kₜ ⎠\n",
       "─────────────────────────────\n",
       "               2             \n",
       "    r_{t+1} + ρ  + 2⋅ρ + 2   "
      ]
     },
     "execution_count": 26,
     "metadata": {},
     "output_type": "execute_result"
    }
   ],
   "source": [
    "savings_of_k = sp.solve(euler_eq, s)[0].subs(w, wage.rhs)\n",
    "savings_of_k"
   ]
  },
  {
   "cell_type": "code",
   "execution_count": 27,
   "metadata": {},
   "outputs": [
    {
     "data": {
      "image/png": "[encoded data removed]",
      "text/latex": [
       "$$\\frac{\\left(- \\alpha k_{t}^{\\alpha} + k_{t}^{\\alpha}\\right) \\left(\\frac{\\alpha k_{t}^{\\alpha}}{k_{t}} + 1\\right)}{\\frac{\\alpha k_{t}^{\\alpha}}{k_{t}} + \\rho^{2} + 2 \\rho + 2}$$"
      ],
      "text/plain": [
       "                ⎛    α    ⎞\n",
       "⎛      α     α⎞ ⎜α⋅kₜ     ⎟\n",
       "⎝- α⋅kₜ  + kₜ ⎠⋅⎜───── + 1⎟\n",
       "                ⎝  kₜ     ⎠\n",
       "───────────────────────────\n",
       "        α                  \n",
       "    α⋅kₜ     2             \n",
       "    ───── + ρ  + 2⋅ρ + 2   \n",
       "      kₜ                   "
      ]
     },
     "execution_count": 27,
     "metadata": {},
     "output_type": "execute_result"
    }
   ],
   "source": [
    "savings_of_k = savings_of_k.subs(r, interest_rate.rhs)\n",
    "savings_of_k"
   ]
  },
  {
   "cell_type": "code",
   "execution_count": 28,
   "metadata": {},
   "outputs": [
    {
     "data": {
      "image/png": "[encoded data removed]",
      "text/latex": [
       "$$k_{t+1} = \\frac{1}{n + 1} \\left(- \\delta k_{t} + \\frac{\\left(- \\alpha k_{t}^{\\alpha} + k_{t}^{\\alpha}\\right) \\left(\\frac{\\alpha k_{t}^{\\alpha}}{k_{t}} + 1\\right)}{\\frac{\\alpha k_{t}^{\\alpha}}{k_{t}} + \\rho^{2} + 2 \\rho + 2}\\right)$$"
      ],
      "text/plain": [
       "                                  ⎛    α    ⎞\n",
       "                  ⎛      α     α⎞ ⎜α⋅kₜ     ⎟\n",
       "                  ⎝- α⋅kₜ  + kₜ ⎠⋅⎜───── + 1⎟\n",
       "                                  ⎝  kₜ     ⎠\n",
       "          -δ⋅kₜ + ───────────────────────────\n",
       "                          α                  \n",
       "                      α⋅kₜ     2             \n",
       "                      ───── + ρ  + 2⋅ρ + 2   \n",
       "                        kₜ                   \n",
       "k_{t+1} = ───────────────────────────────────\n",
       "                         n + 1               "
      ]
     },
     "execution_count": 28,
     "metadata": {},
     "output_type": "execute_result"
    }
   ],
   "source": [
    "transition_eq = evolution.subs(s, savings_of_k)\n",
    "transition_eq"
   ]
  },
  {
   "cell_type": "code",
   "execution_count": 29,
   "metadata": {},
   "outputs": [],
   "source": [
    "_tf2 = sp.lambdify((k, alpha, rho, delta, n), transition_eq.rhs)\n",
    "def tf2(k, alpha, rho, delta, n):\n",
    "    return _tf2(k, alpha, rho, delta, n)\n"
   ]
  },
  {
   "cell_type": "markdown",
   "metadata": {},
   "source": [
    "Notice now the analytical solution is empty. "
   ]
  },
  {
   "cell_type": "code",
   "execution_count": 30,
   "metadata": {},
   "outputs": [
    {
     "data": {
      "image/png": "[encoded data removed]",
      "text/latex": [
       "$$\\left [ \\right ]$$"
      ],
      "text/plain": [
       "[]"
      ]
     },
     "execution_count": 30,
     "metadata": {},
     "output_type": "execute_result"
    }
   ],
   "source": [
    "sp.solve(transition_eq.subs(kp1, k), k)"
   ]
  },
  {
   "cell_type": "markdown",
   "metadata": {},
   "source": [
    "Here we compare the steady state of a model with log utility and one with square root utility, notice how the change in utility drastically changes the steady state level of capital."
   ]
  },
  {
   "cell_type": "code",
   "execution_count": 70,
   "metadata": {},
   "outputs": [
    {
     "name": "stderr",
     "output_type": "stream",
     "text": [
      "C:\\Users\\qsd161\\AppData\\Local\\Continuum\\anaconda3\\lib\\site-packages\\numpy\\__init__.py:1: RuntimeWarning: invalid value encountered in double_scalars\n",
      "  \"\"\"\n"
     ]
    },
    {
     "data": {
      "text/plain": [
       "<matplotlib.legend.Legend at 0x1bcbdc86c88>"
      ]
     },
     "execution_count": 70,
     "metadata": {},
     "output_type": "execute_result"
    },
    {
     "data": {
      "image/png": "[encoded data removed]",
      "text/plain": [
       "<Figure size 432x288 with 1 Axes>"
      ]
     },
     "metadata": {
      "needs_background": "light"
     },
     "output_type": "display_data"
    }
   ],
   "source": [
    "k_ = 0.0001\n",
    "k_2 = 0.0001\n",
    "\n",
    "xr = range(10)\n",
    "xr2 = np.linspace(0,1,1000)\n",
    "\n",
    "_r = 0.05\n",
    "_d = 0.05\n",
    "_a = 0.5\n",
    "_n = 0\n",
    "\n",
    "\n",
    "out = list()\n",
    "out2 = list()\n",
    "\n",
    "for _ in xr:\n",
    "    k_ = tf2(k = k_, alpha = _a, rho = _r, delta = _d, n = _n)\n",
    "    k_2 = transition_func(k = k_2, alpha = _a, rho = _r, delta = _d, n = _n)\n",
    "    \n",
    "    out.append(k_)\n",
    "    out2.append(k_2)\n",
    "    \n",
    "res = [tf2(k = x, alpha = _a, rho = _r, delta = _d, n = _n) for x in xr2]\n",
    "res2 = [transition_func(k = x, alpha = _a, rho = _r, delta = _d, n = _n) for x in xr2]\n",
    "\n",
    "plt.plot(xr, xr, color = 'black')\n",
    "plt.plot(xr2, res, color = 'blue', alpha = 1, label = 'sqrt')    \n",
    "plt.plot(xr2, res2, color = 'navy', alpha = 1, label = 'log')    \n",
    "\n",
    "plt.step(out[:-1], out[1:], where = 'post', color = 'red', linestyle = '--', alpha = 0.8)\n",
    "plt.scatter(out[:-1], out[1:], color = 'red', alpha = 0.8)\n",
    "\n",
    "plt.step(out2[:-1], out2[1:], where = 'post', color = 'red', linestyle = '--', alpha = 0.8)\n",
    "plt.scatter(out2[:-1], out2[1:], color = 'red', alpha = 0.8)\n",
    "\n",
    "\n",
    "plt.xlim(0,0.2)\n",
    "plt.ylim(0,0.2)\n",
    "\n",
    "plt.legend()\n"
   ]
  },
  {
   "cell_type": "markdown",
   "metadata": {},
   "source": [
    "Finally using the simple convergence algorithm shown in the figure we can approximate the steady state level of capital in an economy characterized by square root utility."
   ]
  },
  {
   "cell_type": "code",
   "execution_count": 98,
   "metadata": {},
   "outputs": [
    {
     "name": "stdout",
     "output_type": "stream",
     "text": [
      "0.10949660035925014\n"
     ]
    }
   ],
   "source": [
    "k_ = 0.0001\n",
    "for _ in range(10000):\n",
    "    k_ = tf2(k = k_, alpha = _a, rho = _r, delta = _d, n = _n)\n",
    "\n",
    "print(k_)"
   ]
  }
 ],
 "metadata": {
  "kernelspec": {
   "display_name": "Python 3",
   "language": "python",
   "name": "python3"
  },
  "language_info": {
   "codemirror_mode": {
    "name": "ipython",
    "version": 3
   },
   "file_extension": ".py",
   "mimetype": "text/x-python",
   "name": "python",
   "nbconvert_exporter": "python",
   "pygments_lexer": "ipython3",
   "version": "3.7.0"
  }
 },
 "nbformat": 4,
 "nbformat_minor": 2
}
